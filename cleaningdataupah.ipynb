{
  "nbformat": 4,
  "nbformat_minor": 0,
  "metadata": {
    "colab": {
      "provenance": []
    },
    "kernelspec": {
      "name": "python3",
      "display_name": "Python 3"
    },
    "language_info": {
      "name": "python"
    }
  },
  "cells": [
    {
      "cell_type": "code",
      "source": [
        "import pandas as pd"
      ],
      "metadata": {
        "id": "pP7I6xQ5K8zE"
      },
      "execution_count": null,
      "outputs": []
    },
    {
      "cell_type": "code",
      "source": [
        "# Membaca file CSV dengan delimiter yang tepat\n",
        "df = pd.read_csv('/content/upah_berdasarkan_penawaran_norp_updated.csv', delimiter=';')\n"
      ],
      "metadata": {
        "id": "0-AFkHToA29G"
      },
      "execution_count": null,
      "outputs": []
    },
    {
      "cell_type": "code",
      "source": [
        "print(df.head())"
      ],
      "metadata": {
        "colab": {
          "base_uri": "https://localhost:8080/"
        },
        "id": "bBp6YmE5Lc5f",
        "outputId": "174b8986-6989-4cdb-c9c6-007ea506a355"
      },
      "execution_count": null,
      "outputs": [
        {
          "output_type": "stream",
          "name": "stdout",
          "text": [
            "   No                                         Keterangan Satuan         Upah \n",
            "0   1  Pembuatan Sertifkat Laik Operasi (SLO) Instala...    SET    6,210,000 \n",
            "1   2  Pembuatan Sertifikat Laik Operasi (SLO) + Riks...    SET   79,700,000 \n",
            "2   3  Sertifikasi Penyalur Petir oleh Disnaker Provinsi     UN    2,975,000 \n",
            "3   4          Sertifikasi Genset oleh Disnaker Provinsi     UN    3,500,000 \n",
            "4   5                                     Functional SAP    DAY    3,675,000 \n"
          ]
        }
      ]
    },
    {
      "cell_type": "code",
      "source": [
        "import csv\n",
        "\n",
        "# Fungsi untuk menghapus \"Rp\" dari nilai\n",
        "def remove_rp(value):\n",
        "    return value.replace('Rp', '')\n",
        "\n",
        "# Nama file CSV\n",
        "file_path = '/content/upah_operator_alat_(berdasarkan_survey_online).csv'\n",
        "\n",
        "# Kolom yang akan diubah (misalnya kolom 'harga')\n",
        "target_column = ' Upah '\n",
        "\n",
        "# Buka file CSV untuk dibaca dan simpan perubahan ke file baru\n",
        "with open(file_path, mode='r', newline='') as csv_file:\n",
        "    csv_reader = csv.DictReader(csv_file)\n",
        "    headers = csv_reader.fieldnames\n",
        "\n",
        "    # Buka file CSV untuk menulis hasil perubahan\n",
        "    with open('upah_operator_alat_(berdasarkan_survey_online)_norp.csv', mode='w', newline='') as updated_csv_file:\n",
        "        writer = csv.DictWriter(updated_csv_file, fieldnames=headers)\n",
        "        writer.writeheader()\n",
        "\n",
        "        # Proses setiap baris data\n",
        "        for row in csv_reader:\n",
        "            # Menghapus \"Rp\" dari nilai pada kolom target\n",
        "            row[target_column] = remove_rp(row[target_column])\n",
        "\n",
        "            # Menulis baris yang telah diubah ke file baru\n",
        "            writer.writerow(row)\n",
        "\n",
        "print(\"Penghapusan 'Rp' selesai.\")\n"
      ],
      "metadata": {
        "colab": {
          "base_uri": "https://localhost:8080/"
        },
        "id": "NCB6GYb23EQL",
        "outputId": "bb0d58bc-6a48-48b4-c9b2-d9815b6ce994"
      },
      "execution_count": null,
      "outputs": [
        {
          "output_type": "stream",
          "name": "stdout",
          "text": [
            "Penghapusan 'Rp' selesai.\n"
          ]
        }
      ]
    },
    {
      "cell_type": "code",
      "source": [
        "from google.colab import files\n",
        "files.download('upah_operator_alat_(berdasarkan_survey_online)_norp.csv')"
      ],
      "metadata": {
        "colab": {
          "base_uri": "https://localhost:8080/",
          "height": 17
        },
        "id": "QgKlDDc83bEe",
        "outputId": "be48e920-6996-4bdf-b63f-ced4d191ed7c"
      },
      "execution_count": null,
      "outputs": [
        {
          "output_type": "display_data",
          "data": {
            "text/plain": [
              "<IPython.core.display.Javascript object>"
            ],
            "application/javascript": [
              "\n",
              "    async function download(id, filename, size) {\n",
              "      if (!google.colab.kernel.accessAllowed) {\n",
              "        return;\n",
              "      }\n",
              "      const div = document.createElement('div');\n",
              "      const label = document.createElement('label');\n",
              "      label.textContent = `Downloading \"${filename}\": `;\n",
              "      div.appendChild(label);\n",
              "      const progress = document.createElement('progress');\n",
              "      progress.max = size;\n",
              "      div.appendChild(progress);\n",
              "      document.body.appendChild(div);\n",
              "\n",
              "      const buffers = [];\n",
              "      let downloaded = 0;\n",
              "\n",
              "      const channel = await google.colab.kernel.comms.open(id);\n",
              "      // Send a message to notify the kernel that we're ready.\n",
              "      channel.send({})\n",
              "\n",
              "      for await (const message of channel.messages) {\n",
              "        // Send a message to notify the kernel that we're ready.\n",
              "        channel.send({})\n",
              "        if (message.buffers) {\n",
              "          for (const buffer of message.buffers) {\n",
              "            buffers.push(buffer);\n",
              "            downloaded += buffer.byteLength;\n",
              "            progress.value = downloaded;\n",
              "          }\n",
              "        }\n",
              "      }\n",
              "      const blob = new Blob(buffers, {type: 'application/binary'});\n",
              "      const a = document.createElement('a');\n",
              "      a.href = window.URL.createObjectURL(blob);\n",
              "      a.download = filename;\n",
              "      div.appendChild(a);\n",
              "      a.click();\n",
              "      div.remove();\n",
              "    }\n",
              "  "
            ]
          },
          "metadata": {}
        },
        {
          "output_type": "display_data",
          "data": {
            "text/plain": [
              "<IPython.core.display.Javascript object>"
            ],
            "application/javascript": [
              "download(\"download_6379e9a4-9328-4b17-8b5f-61e36022ecf7\", \"upah_operator_alat_(berdasarkan_survey_online)_norp.csv\", 598)"
            ]
          },
          "metadata": {}
        }
      ]
    },
    {
      "cell_type": "code",
      "source": [
        "import csv\n",
        "\n",
        "# Fungsi untuk menghapus \"Rp\" dari nilai\n",
        "def remove_rp(value):\n",
        "    return value.replace('Rp', '')\n",
        "\n",
        "# Nama file CSV\n",
        "file_path = '/content/upah_tenaga_ahli_konsultan_(INKINDO).csv'\n",
        "\n",
        "# Kolom yang akan diubah (misalnya kolom 'harga')\n",
        "target_column = ' Harga Indeks Banten '\n",
        "\n",
        "# Buka file CSV untuk dibaca dan simpan perubahan ke file baru\n",
        "with open(file_path, mode='r', newline='') as csv_file:\n",
        "    csv_reader = csv.DictReader(csv_file)\n",
        "    headers = csv_reader.fieldnames\n",
        "\n",
        "    # Buka file CSV untuk menulis hasil perubahan\n",
        "    with open('upah_tenaga_ahli_konsultan_(INKINDO)_norp.csv', mode='w', newline='') as updated_csv_file:\n",
        "        writer = csv.DictWriter(updated_csv_file, fieldnames=headers)\n",
        "        writer.writeheader()\n",
        "\n",
        "        # Proses setiap baris data\n",
        "        for row in csv_reader:\n",
        "            # Menghapus \"Rp\" dari nilai pada kolom target\n",
        "            row[target_column] = remove_rp(row[target_column])\n",
        "\n",
        "            # Menulis baris yang telah diubah ke file baru\n",
        "            writer.writerow(row)\n",
        "\n",
        "print(\"Penghapusan 'Rp' selesai.\")\n"
      ],
      "metadata": {
        "colab": {
          "base_uri": "https://localhost:8080/"
        },
        "id": "JS7wdIkbCOMd",
        "outputId": "7f99d997-575a-4c0e-fb5a-468d7716b3df"
      },
      "execution_count": null,
      "outputs": [
        {
          "output_type": "stream",
          "name": "stdout",
          "text": [
            "Penghapusan 'Rp' selesai.\n"
          ]
        }
      ]
    },
    {
      "cell_type": "code",
      "source": [
        "from google.colab import files\n",
        "files.download('upah_berdasarkan_penawaran_norp_updated.csv')"
      ],
      "metadata": {
        "colab": {
          "base_uri": "https://localhost:8080/",
          "height": 17
        },
        "id": "hnwGv2TKF13H",
        "outputId": "1f3f2235-e295-492d-98d1-5a73568e5a94"
      },
      "execution_count": null,
      "outputs": [
        {
          "output_type": "display_data",
          "data": {
            "text/plain": [
              "<IPython.core.display.Javascript object>"
            ],
            "application/javascript": [
              "\n",
              "    async function download(id, filename, size) {\n",
              "      if (!google.colab.kernel.accessAllowed) {\n",
              "        return;\n",
              "      }\n",
              "      const div = document.createElement('div');\n",
              "      const label = document.createElement('label');\n",
              "      label.textContent = `Downloading \"${filename}\": `;\n",
              "      div.appendChild(label);\n",
              "      const progress = document.createElement('progress');\n",
              "      progress.max = size;\n",
              "      div.appendChild(progress);\n",
              "      document.body.appendChild(div);\n",
              "\n",
              "      const buffers = [];\n",
              "      let downloaded = 0;\n",
              "\n",
              "      const channel = await google.colab.kernel.comms.open(id);\n",
              "      // Send a message to notify the kernel that we're ready.\n",
              "      channel.send({})\n",
              "\n",
              "      for await (const message of channel.messages) {\n",
              "        // Send a message to notify the kernel that we're ready.\n",
              "        channel.send({})\n",
              "        if (message.buffers) {\n",
              "          for (const buffer of message.buffers) {\n",
              "            buffers.push(buffer);\n",
              "            downloaded += buffer.byteLength;\n",
              "            progress.value = downloaded;\n",
              "          }\n",
              "        }\n",
              "      }\n",
              "      const blob = new Blob(buffers, {type: 'application/binary'});\n",
              "      const a = document.createElement('a');\n",
              "      a.href = window.URL.createObjectURL(blob);\n",
              "      a.download = filename;\n",
              "      div.appendChild(a);\n",
              "      a.click();\n",
              "      div.remove();\n",
              "    }\n",
              "  "
            ]
          },
          "metadata": {}
        },
        {
          "output_type": "display_data",
          "data": {
            "text/plain": [
              "<IPython.core.display.Javascript object>"
            ],
            "application/javascript": [
              "download(\"download_21725fdb-05eb-4e6f-a275-8c9b187155f4\", \"upah_berdasarkan_penawaran_norp_updated.csv\", 5233)"
            ]
          },
          "metadata": {}
        }
      ]
    },
    {
      "cell_type": "code",
      "source": [
        "import csv\n",
        "\n",
        "# Nama file CSV\n",
        "input_file_path = '/content/upah_berdasarkan_penawaran_norp.csv'\n",
        "\n",
        "# Buka file CSV dengan delimiter koma (,)\n",
        "with open(input_file_path, mode='r', newline='') as csv_file:\n",
        "    csv_reader = csv.reader(csv_file, delimiter=',')\n",
        "    headers = next(csv_reader)  # Baca header\n",
        "\n",
        "    # Buka file CSV baru dengan delimiter titik koma (;) untuk menulis hasil perubahan\n",
        "    output_file_path = 'upah_berdasarkan_penawaran_norp_updated.csv'\n",
        "    with open(output_file_path, mode='w', newline='') as updated_csv_file:\n",
        "        csv_writer = csv.writer(updated_csv_file, delimiter=';')\n",
        "\n",
        "        # Tulis header\n",
        "        csv_writer.writerow(headers)\n",
        "\n",
        "        # Salin baris satu per satu dengan delimiter yang baru\n",
        "        for row in csv_reader:\n",
        "            csv_writer.writerow(row)\n",
        "\n",
        "print(\"Perubahan delimiter selesai. File tersimpan sebagai 'updated_data.csv'.\")\n"
      ],
      "metadata": {
        "colab": {
          "base_uri": "https://localhost:8080/"
        },
        "id": "OINA6V2oCdzt",
        "outputId": "57bed482-63a5-4846-f414-e21842da2e6e"
      },
      "execution_count": null,
      "outputs": [
        {
          "output_type": "stream",
          "name": "stdout",
          "text": [
            "Perubahan delimiter selesai. File tersimpan sebagai 'updated_data.csv'.\n"
          ]
        }
      ]
    }
  ]
}